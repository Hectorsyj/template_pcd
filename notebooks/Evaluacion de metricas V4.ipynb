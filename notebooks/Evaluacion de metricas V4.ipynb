{
 "cells": [
  {
   "cell_type": "markdown",
   "metadata": {
    "id": "6xHJdORHf1N6"
   },
   "source": [
    "# Recolección y Exploración del Corpus de Noticias\n",
    "\n",
    "## Introducción\n",
    "El análisis de texto es una técnica fundamental en el procesamiento del lenguaje natural (NLP), utilizada para extraer información significativa de grandes volúmenes de datos textuales. En este caso, trabajaremos con un conjunto de noticias provenientes de un archivo de datos en Excel, con el objetivo de realizar una carga, exploración, filtrado y análisis del corpus de noticias. Además, se implementarán técnicas de preprocesamiento como limpieza del texto, tokenización y padding, permitiendo mejorar la calidad de los datos procesados para su uso en modelos de aprendizaje profundo.\n",
    "\n",
    "### Este cuaderno Jupyter se enfocará en:\n",
    "\n",
    "1. Carga y visualización del corpus \n",
    "* Importación del archivo de noticias en un DataFrame de Pandas.\n",
    "* Inspección de la estructura y calidad de los datos.\n",
    "* Identificación de valores nulos o inconsistencias en las noticias.\n",
    "\n",
    "2. Exploración del corpus\n",
    "* Análisis estadístico del conjunto de datos.\n",
    "* Conteo de la cantidad de noticias por categoría.\n",
    "* Cálculo de la longitud promedio de los artículos en términos de palabras.\n",
    "\n",
    "3. Palabras más frecuentes\n",
    "* Extracción de todas las palabras del corpus de noticias.\n",
    "* Conteo de la frecuencia de cada palabra en el conjunto de datos.\n",
    "* Identificación de las palabras más utilizadas en los artículos.\n",
    "\n",
    "4. Procesamiento del texto\n",
    "* Limpieza del texto: Conversión a minúsculas, eliminación de caracteres especiales y números.\n",
    "* Tokenización: Conversión del texto en secuencias numéricas.\n",
    "* Padding: Normalización de las secuencias a una longitud fija para modelos de aprendizaje profundo.\n",
    "\n",
    "5. Filtrado de Etiquetas Más Relevantes\n",
    "* Identificación de las etiquetas más comunes en el corpus.\n",
    "* Selección de las 4 etiquetas más frecuentes para reducir el ruido en el análisis.\n",
    "* Filtrado del conjunto de datos para incluir solo las categorías más representativas.\n",
    "\n",
    "## Importancia del Corpus de Noticias\n",
    "El análisis de este corpus nos permitirá identificar tendencias, patrones lingüísticos y relaciones entre palabras, lo cual es útil para aplicaciones como:\n",
    "\n",
    "* Análisis de sentimientos: Determinar la polaridad de las noticias.\n",
    "* Clasificación de noticias: Organizar artículos en categorías relevantes.\n",
    "* Extracción de palabras clave: Identificar términos importantes dentro del corpus.\n",
    "* Modelado de temas: Descubrir patrones y agrupaciones temáticas en los datos.\n",
    "* Filtrado de etiquetas relevantes: Reducir el ruido en la clasificación de noticias y enfocarse en las categorías de mayor interés."
   ]
  },
  {
   "cell_type": "markdown",
   "metadata": {},
   "source": [
    "# 1. Carga y Visualización del Corpus"
   ]
  },
  {
   "cell_type": "code",
   "execution_count": 1,
   "metadata": {
    "colab": {
     "base_uri": "https://localhost:8080/"
    },
    "id": "tLXwaA3PfYCm",
    "outputId": "97fbaa7d-16a7-4d54-b719-6ace091f6e69"
   },
   "outputs": [
    {
     "name": "stderr",
     "output_type": "stream",
     "text": [
      "[nltk_data] Downloading package punkt to\n",
      "[nltk_data]     C:\\Users\\dihwz773\\AppData\\Roaming\\nltk_data...\n",
      "[nltk_data]   Package punkt is already up-to-date!\n",
      "[nltk_data] Downloading package stopwords to\n",
      "[nltk_data]     C:\\Users\\dihwz773\\AppData\\Roaming\\nltk_data...\n",
      "[nltk_data]   Package stopwords is already up-to-date!\n"
     ]
    },
    {
     "data": {
      "text/plain": [
       "True"
      ]
     },
     "execution_count": 1,
     "metadata": {},
     "output_type": "execute_result"
    }
   ],
   "source": [
    "import nltk\n",
    "nltk.download('punkt')\n",
    "nltk.download('stopwords')"
   ]
  },
  {
   "cell_type": "markdown",
   "metadata": {},
   "source": [
    "Este fragmento de código descarga dos recursos clave de la biblioteca NLTK (Natural Language Toolkit), que es una de las herramientas más utilizadas para el procesamiento del lenguaje natural (NLP):\n",
    "\n",
    "1. nltk.download('punkt'):\n",
    "* Descarga el paquete Punkt, que contiene un modelo de tokenización preentrenado.\n",
    "* Se utiliza para dividir un texto en oraciones o palabras, facilitando el análisis del corpus.\n",
    "\n",
    "2. nltk.download('stopwords'):\n",
    "* Descarga una lista de stopwords (palabras vacías o de poco significado, como \"el\", \"la\", \"de\", etc.).\n",
    "* Estas palabras suelen eliminarse en tareas de análisis de texto, ya que no aportan mucho significado a nivel de contenido."
   ]
  },
  {
   "cell_type": "code",
   "execution_count": 2,
   "metadata": {
    "colab": {
     "base_uri": "https://localhost:8080/"
    },
    "id": "09BzO0Byg7IA",
    "outputId": "c4f4365e-c2d3-4fa9-beea-bce746b8263d"
   },
   "outputs": [
    {
     "name": "stderr",
     "output_type": "stream",
     "text": [
      "[nltk_data] Downloading package punkt to\n",
      "[nltk_data]     C:\\Users\\dihwz773\\AppData\\Roaming\\nltk_data...\n",
      "[nltk_data]   Package punkt is already up-to-date!\n",
      "[nltk_data] Downloading package stopwords to\n",
      "[nltk_data]     C:\\Users\\dihwz773\\AppData\\Roaming\\nltk_data...\n",
      "[nltk_data]   Package stopwords is already up-to-date!\n"
     ]
    },
    {
     "data": {
      "text/plain": [
       "(14396, 6)"
      ]
     },
     "execution_count": 2,
     "metadata": {},
     "output_type": "execute_result"
    }
   ],
   "source": [
    "# Importar las bibliotecas necesarias\n",
    "import pandas as pd\n",
    "import nltk\n",
    "from nltk.tokenize import word_tokenize\n",
    "import string\n",
    "import re\n",
    "from sklearn.feature_extraction.text import TfidfVectorizer\n",
    "from gensim.models import Word2Vec\n",
    "\n",
    "# Descargar recursos de NLTK\n",
    "nltk.download('punkt')\n",
    "nltk.download('stopwords')\n",
    "from nltk.corpus import stopwords\n",
    "\n",
    "# Cargar el archivo de datos\n",
    "file_path = 'C:/Users/dihwz773/Ciencia de Datos/Procesamiento Natural/nlp_ean-main/Datos/Datos Crudos/Noticias.xlsx'\n",
    "\n",
    "data = pd.read_excel(file_path)\n",
    "\n",
    "# Mostrar una vista previa de los datos\n",
    "\n",
    "data.shape"
   ]
  },
  {
   "cell_type": "markdown",
   "metadata": {},
   "source": [
    "Este fragmento de código se encarga de importar bibliotecas, descargar recursos de NLP, cargar el dataset y mostrar su estructura.\n",
    "\n",
    "1. Importación de bibliotecas\n",
    "* pandas: Para la manipulación y análisis del dataset.\n",
    "* nltk.tokenize.word_tokenize: Para dividir el texto en palabras.\n",
    "* string y re: Para manipulación de texto y expresiones regulares.\n",
    "* TfidfVectorizer (Scikit-learn): Para la vectorización de texto usando TF-IDF, una técnica que mide la importancia de cada palabra en un documento.\n",
    "* Word2Vec (Gensim): Para la representación de palabras en vectores numéricos basados en su contexto en el corpus.\n",
    "\n",
    "2. Descarga de recursos de NLTK\n",
    "* punkt: Para tokenización en NLTK.\n",
    "* stopwords: Contiene palabras vacías en varios idiomas.\n",
    "\n",
    "3. Carga del dataset\n",
    "* Carga el archivo de Excel en un DataFrame de Pandas.\n",
    "* Se asume que el script se ejecuta en Google Colab (por el uso de '/content/' como ruta).\n",
    "\n",
    "4. Visualización de la estructura de los datos\n",
    "* shape devuelve la forma del dataset en (filas, columnas), permitiendo conocer el tamaño del corpus de noticias."
   ]
  },
  {
   "cell_type": "code",
   "execution_count": 3,
   "metadata": {},
   "outputs": [
    {
     "name": "stdout",
     "output_type": "stream",
     "text": [
      "Dataset cargado correctamente con 14396 filas y 6 columnas.\n"
     ]
    }
   ],
   "source": [
    "if data.empty:\n",
    "    print(\"Error: El archivo está vacío o no se pudo cargar.\")\n",
    "else:\n",
    "    print(f\"Dataset cargado correctamente con {data.shape[0]} filas y {data.shape[1]} columnas.\")"
   ]
  },
  {
   "cell_type": "markdown",
   "metadata": {},
   "source": [
    "Mostramos las primeras filas para entender la estructura"
   ]
  },
  {
   "cell_type": "code",
   "execution_count": 4,
   "metadata": {
    "colab": {
     "base_uri": "https://localhost:8080/",
     "height": 310
    },
    "id": "GOfkKxe4ZE5g",
    "outputId": "e0d6c288-fbed-4b2e-a237-f60b9aaba496"
   },
   "outputs": [
    {
     "data": {
      "text/html": [
       "<div>\n",
       "<style scoped>\n",
       "    .dataframe tbody tr th:only-of-type {\n",
       "        vertical-align: middle;\n",
       "    }\n",
       "\n",
       "    .dataframe tbody tr th {\n",
       "        vertical-align: top;\n",
       "    }\n",
       "\n",
       "    .dataframe thead th {\n",
       "        text-align: right;\n",
       "    }\n",
       "</style>\n",
       "<table border=\"1\" class=\"dataframe\">\n",
       "  <thead>\n",
       "    <tr style=\"text-align: right;\">\n",
       "      <th></th>\n",
       "      <th>Columna1</th>\n",
       "      <th>Enlaces</th>\n",
       "      <th>Título</th>\n",
       "      <th>info</th>\n",
       "      <th>contenido</th>\n",
       "      <th>Etiqueta</th>\n",
       "    </tr>\n",
       "  </thead>\n",
       "  <tbody>\n",
       "    <tr>\n",
       "      <th>0</th>\n",
       "      <td>0</td>\n",
       "      <td>https://www.eltiempo.com/agresion-contra-un-op...</td>\n",
       "      <td>Operador de grúa quedó inconsciente tras agres...</td>\n",
       "      <td>El conductor de una moto le lanzó el casco y p...</td>\n",
       "      <td>Las autoridades están buscando al conductor de...</td>\n",
       "      <td>colombia</td>\n",
       "    </tr>\n",
       "    <tr>\n",
       "      <th>1</th>\n",
       "      <td>1</td>\n",
       "      <td>https://www.eltiempo.com/archivo/documento/CMS...</td>\n",
       "      <td>Usaquén, primera en infracciones por mal parqueo</td>\n",
       "      <td>La localidad ocupa el primer lugar en comparen...</td>\n",
       "      <td>\"Los andenes son para los peatones\", reclama e...</td>\n",
       "      <td>archivo</td>\n",
       "    </tr>\n",
       "    <tr>\n",
       "      <th>2</th>\n",
       "      <td>2</td>\n",
       "      <td>https://www.eltiempo.com/archivo/documento/CMS...</td>\n",
       "      <td>'Me atracaron y vi un arma que me heló la sang...</td>\n",
       "      <td>Un ciudadano relata cómo cuatro hombres lo rob...</td>\n",
       "      <td>A las 7 de la noche me había quedado de encont...</td>\n",
       "      <td>archivo</td>\n",
       "    </tr>\n",
       "    <tr>\n",
       "      <th>3</th>\n",
       "      <td>3</td>\n",
       "      <td>https://www.eltiempo.com/archivo/documento/CMS...</td>\n",
       "      <td>Escoltas mal estacionados, dolor de cabeza de ...</td>\n",
       "      <td>Las zonas de restaurantes se convierten en par...</td>\n",
       "      <td>Atravesados. Eso es lo que se les pasa por la ...</td>\n",
       "      <td>archivo</td>\n",
       "    </tr>\n",
       "    <tr>\n",
       "      <th>4</th>\n",
       "      <td>4</td>\n",
       "      <td>https://www.eltiempo.com/archivo/documento/CMS...</td>\n",
       "      <td>Radicado primer proyecto que autorizaría union...</td>\n",
       "      <td>El representante de 'la U', Miguel Gómez, dijo...</td>\n",
       "      <td>“Estamos proponiendo la figura de un contrato ...</td>\n",
       "      <td>archivo</td>\n",
       "    </tr>\n",
       "  </tbody>\n",
       "</table>\n",
       "</div>"
      ],
      "text/plain": [
       "   Columna1                                            Enlaces  \\\n",
       "0         0  https://www.eltiempo.com/agresion-contra-un-op...   \n",
       "1         1  https://www.eltiempo.com/archivo/documento/CMS...   \n",
       "2         2  https://www.eltiempo.com/archivo/documento/CMS...   \n",
       "3         3  https://www.eltiempo.com/archivo/documento/CMS...   \n",
       "4         4  https://www.eltiempo.com/archivo/documento/CMS...   \n",
       "\n",
       "                                              Título  \\\n",
       "0  Operador de grúa quedó inconsciente tras agres...   \n",
       "1   Usaquén, primera en infracciones por mal parqueo   \n",
       "2  'Me atracaron y vi un arma que me heló la sang...   \n",
       "3  Escoltas mal estacionados, dolor de cabeza de ...   \n",
       "4  Radicado primer proyecto que autorizaría union...   \n",
       "\n",
       "                                                info  \\\n",
       "0  El conductor de una moto le lanzó el casco y p...   \n",
       "1  La localidad ocupa el primer lugar en comparen...   \n",
       "2  Un ciudadano relata cómo cuatro hombres lo rob...   \n",
       "3  Las zonas de restaurantes se convierten en par...   \n",
       "4  El representante de 'la U', Miguel Gómez, dijo...   \n",
       "\n",
       "                                           contenido  Etiqueta  \n",
       "0  Las autoridades están buscando al conductor de...  colombia  \n",
       "1  \"Los andenes son para los peatones\", reclama e...   archivo  \n",
       "2  A las 7 de la noche me había quedado de encont...   archivo  \n",
       "3  Atravesados. Eso es lo que se les pasa por la ...   archivo  \n",
       "4  “Estamos proponiendo la figura de un contrato ...   archivo  "
      ]
     },
     "execution_count": 4,
     "metadata": {},
     "output_type": "execute_result"
    }
   ],
   "source": [
    "data.head()"
   ]
  },
  {
   "cell_type": "markdown",
   "metadata": {},
   "source": [
    "# 2. Exploración del Corpus"
   ]
  },
  {
   "cell_type": "code",
   "execution_count": 5,
   "metadata": {},
   "outputs": [
    {
     "name": "stdout",
     "output_type": "stream",
     "text": [
      "<class 'pandas.core.frame.DataFrame'>\n",
      "Index: 13738 entries, 0 to 14395\n",
      "Data columns (total 6 columns):\n",
      " #   Column     Non-Null Count  Dtype \n",
      "---  ------     --------------  ----- \n",
      " 0   Columna1   13738 non-null  int64 \n",
      " 1   Enlaces    13738 non-null  object\n",
      " 2   Título     13738 non-null  object\n",
      " 3   info       11483 non-null  object\n",
      " 4   contenido  13738 non-null  object\n",
      " 5   Etiqueta   13738 non-null  object\n",
      "dtypes: int64(1), object(5)\n",
      "memory usage: 751.3+ KB\n"
     ]
    }
   ],
   "source": [
    "data = data.dropna(subset=['contenido'])\n",
    "data.info()"
   ]
  },
  {
   "cell_type": "code",
   "execution_count": 6,
   "metadata": {},
   "outputs": [
    {
     "name": "stdout",
     "output_type": "stream",
     "text": [
      "\n",
      "📌 Cantidad de noticias por etiqueta:\n",
      "Etiqueta\n",
      "archivo                 8744\n",
      "colombia                 934\n",
      "deportes                 727\n",
      "mundo                    446\n",
      "cultura                  429\n",
      "opinion                  394\n",
      "economia                 367\n",
      "justicia                 343\n",
      "bogota                   311\n",
      "vida                     268\n",
      "politica                 252\n",
      "tecnosfera               213\n",
      "salud                    106\n",
      "mundial                   47\n",
      "contenido-comercial       34\n",
      "elecciones                33\n",
      "unidad-investigativa      27\n",
      "podcast                   20\n",
      "bocas                     15\n",
      "carrusel                   8\n",
      "datos                      7\n",
      "lecturas-dominicales       6\n",
      "mas-contenido              4\n",
      "especiales                 3\n",
      "Name: count, dtype: int64\n",
      "\n",
      "📊 Longitud promedio de los artículos: 531.6849614208764\n"
     ]
    }
   ],
   "source": [
    "# Cantidad de noticias por categoría\n",
    "print(\"\\n📌 Cantidad de noticias por etiqueta:\")\n",
    "print(data[\"Etiqueta\"].value_counts())\n",
    "\n",
    "# Longitud promedio de los artículos (usando 'contenido' en lugar de 'contenido_preprocesado')\n",
    "data[\"longitud\"] = data[\"contenido\"].dropna().apply(lambda x: len(str(x).split()))\n",
    "print(\"\\n📊 Longitud promedio de los artículos:\", data[\"longitud\"].mean())\n",
    "\n",
    "# Palabras más frecuentes en el corpus (usando 'contenido' en lugar de 'contenido_preprocesado')\n",
    "from collections import Counter\n",
    "\n",
    "# Concatenar todos los textos en un solo string\n",
    "texto_completo = \" \".join(data[\"contenido\"].dropna())\n",
    "palabras = texto_completo.split()\n",
    "conteo_palabras = Counter(palabras)"
   ]
  },
  {
   "cell_type": "markdown",
   "metadata": {},
   "source": [
    "1. Cantidad de noticias por categoría (Etiqueta)\n",
    "* Se cuenta cuántas noticias hay en cada categoría y se imprime el resultado.\n",
    "  \n",
    "2. Longitud promedio de los artículos (contenido)\n",
    "* Se calcula la cantidad promedio de palabras en los artículos.\n",
    "* Se usa .dropna() para evitar errores con valores nulos.\n",
    "* Se utiliza split() para contar el número de palabras en cada artículo."
   ]
  },
  {
   "cell_type": "markdown",
   "metadata": {},
   "source": [
    "# 3. Palabras Más Frecuentes"
   ]
  },
  {
   "cell_type": "code",
   "execution_count": 7,
   "metadata": {},
   "outputs": [
    {
     "name": "stdout",
     "output_type": "stream",
     "text": [
      "\n",
      "🔝 Palabras más frecuentes en el corpus:\n",
      "[('de', 496879), ('la', 253580), ('en', 212954), ('que', 190982), ('el', 181023), ('y', 161176), ('a', 135845), ('del', 112492), ('los', 92772), ('con', 85706)]\n"
     ]
    }
   ],
   "source": [
    "from collections import Counter\n",
    "\n",
    "# Obtener todas las palabras en una sola lista (usando 'contenido' en lugar de 'tokens_sin_stopwords')\n",
    "todas_las_palabras = [word for text in data[\"contenido\"].dropna() for word in text.split()]\n",
    "\n",
    "# Contar la frecuencia de cada palabra\n",
    "conteo_palabras = Counter(todas_las_palabras)\n",
    "\n",
    "# Mostrar las 10 palabras más comunes\n",
    "print(\"\\n🔝 Palabras más frecuentes en el corpus:\")\n",
    "print(conteo_palabras.most_common(10))"
   ]
  },
  {
   "cell_type": "markdown",
   "metadata": {},
   "source": [
    "Este fragmento de código cuenta las palabras más frecuentes en el corpus de noticias utilizando la columna contenido. Aquí está el desglose de lo que hace:\n",
    "\n",
    "1. Obtener todas las palabras en una sola lista\n",
    "* Se itera sobre la columna contenido, asegurando que no haya valores nulos con .dropna().\n",
    "* Cada artículo de noticias se divide en palabras usando .split(), generando una lista de todas las palabras.\n",
    "\n",
    "2. Contar la frecuencia de cada palabra\n",
    "* Se utiliza la clase Counter de la biblioteca collections para contar cuántas veces aparece cada palabra en el conjunto de datos.\n",
    "\n",
    "3. Mostrar las 10 palabras más comunes\n",
    "* Se usa most_common(10) para obtener e imprimir las 10 palabras con mayor frecuencia en el corpus."
   ]
  },
  {
   "cell_type": "markdown",
   "metadata": {},
   "source": [
    "# Limpieza, tokenización y vectorización con LSTM"
   ]
  },
  {
   "cell_type": "markdown",
   "metadata": {},
   "source": [
    "# 1. Importación de librerías"
   ]
  },
  {
   "cell_type": "code",
   "execution_count": 8,
   "metadata": {},
   "outputs": [],
   "source": [
    "from tensorflow.keras.preprocessing.text import Tokenizer\n",
    "from tensorflow.keras.preprocessing.sequence import pad_sequences\n",
    "import numpy as np\n",
    "import re\n",
    "import pickle"
   ]
  },
  {
   "cell_type": "markdown",
   "metadata": {},
   "source": [
    "* Tokenizer: Se utiliza para convertir el texto en secuencias numéricas.\n",
    "* pad_sequences: Ayuda a normalizar la longitud de las secuencias, agregando padding si es necesario.\n",
    "* numpy: Para manipular datos numéricos.\n",
    "* re: Librería de expresiones regulares para limpiar texto.\n",
    "* pickle: Para guardar el tokenizer y reutilizarlo después."
   ]
  },
  {
   "cell_type": "markdown",
   "metadata": {},
   "source": [
    "# 2. Función para limpiar el texto"
   ]
  },
  {
   "cell_type": "code",
   "execution_count": 9,
   "metadata": {},
   "outputs": [],
   "source": [
    "import re\n",
    "from nltk.corpus import stopwords\n",
    "\n",
    "# Lista de stopwords en español\n",
    "stop_words = set(stopwords.words(\"spanish\"))\n",
    "\n",
    "# Función para limpiar el texto y eliminar stopwords\n",
    "def limpiar_texto(texto):\n",
    "    if isinstance(texto, float):  # Si es NaN, lo convertimos a una cadena vacía\n",
    "        return \"\"\n",
    "    texto = str(texto).lower()  # Convertir a minúsculas\n",
    "    texto = re.sub(r'[^a-záéíóúüñ ]', '', texto)  # Eliminar caracteres especiales y números\n",
    "    palabras = texto.split()  # Tokenizar el texto dividiéndolo por espacios\n",
    "    palabras_filtradas = [word for word in palabras if word not in stop_words]  # Eliminar stopwords\n",
    "    return \" \".join(palabras_filtradas)  # Volver a unir las palabras en una cadena\n",
    "\n",
    "# Aplicar la limpieza al conjunto de datos\n",
    "data[\"contenido_limpio\"] = data[\"contenido\"].astype(str).apply(limpiar_texto)"
   ]
  },
  {
   "cell_type": "markdown",
   "metadata": {},
   "source": [
    "* Convierte texto a minúsculas\n",
    "* Elimina caracteres especiales y números\n",
    "* Elimina stopwords en español\n",
    "* Reconstruye el texto limpio\n",
    "* Aplica la limpieza a todo el DataFrame"
   ]
  },
  {
   "cell_type": "code",
   "execution_count": 10,
   "metadata": {},
   "outputs": [
    {
     "name": "stdout",
     "output_type": "stream",
     "text": [
      "\n",
      "🔝 Palabras más frecuentes en el corpus después de eliminación de stopwords:\n",
      "[('pm', 72074), ('colombia', 37084), ('valle', 28618), ('manizales', 22344), ('coronavirus', 18701), ('mil', 18185), ('mercados', 17190), ('barranquilla', 15978), ('cerca', 15634), ('cauca', 14515)]\n"
     ]
    }
   ],
   "source": [
    "from collections import Counter\n",
    "\n",
    "# Obtener todas las palabras en una sola lista después de la limpieza\n",
    "todas_las_palabras = [word for text in data[\"contenido_limpio\"].dropna() for word in text.split()]\n",
    "\n",
    "# Contar la frecuencia de cada palabra\n",
    "conteo_palabras = Counter(todas_las_palabras)\n",
    "\n",
    "# Mostrar las 10 palabras más comunes después de eliminar stopwords\n",
    "print(\"\\n🔝 Palabras más frecuentes en el corpus después de eliminación de stopwords:\")\n",
    "print(conteo_palabras.most_common(10))"
   ]
  },
  {
   "cell_type": "markdown",
   "metadata": {},
   "source": [
    "* Counter es una herramienta de la librería estándar collections de Python: Se usa para contar la frecuencia de elementos dentro de una lista.\n",
    "* Extrae todas las palabras de la columna \"contenido_limpio\" del DataFrame data.\n",
    "* .dropna(): Se usa para eliminar valores nulos (NaN) y evitar errores.\n",
    "* Tokenización simple (split()): Divide cada texto en palabras individuales.\n",
    "* Comprensión de listas (list comprehension): Recorre todas las filas y extrae cada palabra.\n",
    "* Usa Counter para contar cuántas veces aparece cada palabra en el corpus."
   ]
  },
  {
   "cell_type": "markdown",
   "metadata": {},
   "source": [
    " # 3. Aplicar limpieza a los datos"
   ]
  },
  {
   "cell_type": "code",
   "execution_count": 11,
   "metadata": {},
   "outputs": [],
   "source": [
    "# Aplicar limpieza asegurando que todos los valores sean cadenas de texto\n",
    "data[\"contenido_limpio\"] = data[\"contenido\"].astype(str).apply(limpiar_texto)"
   ]
  },
  {
   "cell_type": "markdown",
   "metadata": {},
   "source": [
    "* Aplica la función limpiar_texto() a la columna contenido del dataset.\n",
    "* Asegura que todos los valores son cadenas (astype(str)) antes de aplicar la limpieza.\n",
    "* Guarda el resultado en la nueva columna contenido_limpio."
   ]
  },
  {
   "cell_type": "markdown",
   "metadata": {},
   "source": [
    "# 4. Definir la función obtener_etiquetas_relevantes"
   ]
  },
  {
   "cell_type": "code",
   "execution_count": 12,
   "metadata": {},
   "outputs": [],
   "source": [
    "def obtener_etiquetas_relevantes(data, columna_etiqueta=\"Etiqueta\", top_n=4):\n",
    "    etiquetas_comunes = Counter(data[columna_etiqueta]).most_common(top_n)\n",
    "    etiquetas_relevantes = [etiqueta[0] for etiqueta in etiquetas_comunes]\n",
    "    return etiquetas_relevantes "
   ]
  },
  {
   "cell_type": "markdown",
   "metadata": {},
   "source": [
    "¿Qué hace esta función?\n",
    "\n",
    "* Cuenta la frecuencia de cada etiqueta en la columna \"Etiqueta\" utilizando Counter de collections.\n",
    "* Obtiene las top_n etiquetas más comunes con .most_common(top_n).\n",
    "* top_n=4 significa que se seleccionarán las 4 etiquetas más frecuentes.\n",
    "* Extrae solo los nombres de las etiquetas en una lista.\n",
    "* Devuelve la lista de etiquetas más comunes."
   ]
  },
  {
   "cell_type": "markdown",
   "metadata": {},
   "source": [
    "# 5. Obtener y mostrar las etiquetas más relevantes"
   ]
  },
  {
   "cell_type": "code",
   "execution_count": 14,
   "metadata": {},
   "outputs": [
    {
     "name": "stdout",
     "output_type": "stream",
     "text": [
      "\n",
      "🎯 Etiquetas más relevantes: ['archivo', 'colombia', 'deportes', 'mundo']\n"
     ]
    }
   ],
   "source": [
    "etiquetas_mas_relevantes = obtener_etiquetas_relevantes(data)\n",
    "print(f\"\\n🎯 Etiquetas más relevantes: {etiquetas_mas_relevantes}\")\n"
   ]
  },
  {
   "cell_type": "markdown",
   "metadata": {},
   "source": [
    "* Se llama a la función obtener_etiquetas_relevantes(data).\n",
    "* Se almacenan las etiquetas más comunes en etiquetas_mas_relevantes.\n",
    "* Se imprimen las etiquetas seleccionadas."
   ]
  },
  {
   "cell_type": "markdown",
   "metadata": {},
   "source": [
    "# 6. Filtrar el dataset para conservar solo esas etiquetas"
   ]
  },
  {
   "cell_type": "code",
   "execution_count": 15,
   "metadata": {},
   "outputs": [
    {
     "name": "stdout",
     "output_type": "stream",
     "text": [
      "\n",
      "📌 Nuevo tamaño del dataset después del filtro: (10851, 8)\n"
     ]
    }
   ],
   "source": [
    "\n",
    "data_filtrada = data[data[\"Etiqueta\"].isin(etiquetas_mas_relevantes)]\n",
    "print(f\"\\n📌 Nuevo tamaño del dataset después del filtro: {data_filtrada.shape}\")\n"
   ]
  },
  {
   "cell_type": "markdown",
   "metadata": {},
   "source": [
    "* Esto indica que, después del filtrado, el dataset ahora tiene 10851 filas y 8 columnas."
   ]
  },
  {
   "cell_type": "markdown",
   "metadata": {},
   "source": [
    "# 7. Definir parámetros"
   ]
  },
  {
   "cell_type": "code",
   "execution_count": 16,
   "metadata": {},
   "outputs": [
    {
     "data": {
      "text/plain": [
       "count    10851.000000\n",
       "mean       251.201825\n",
       "std        176.235965\n",
       "min         53.000000\n",
       "25%        137.000000\n",
       "50%        215.000000\n",
       "75%        327.000000\n",
       "90%        444.000000\n",
       "99%        860.000000\n",
       "max       2989.000000\n",
       "Name: contenido_limpio, dtype: float64"
      ]
     },
     "execution_count": 16,
     "metadata": {},
     "output_type": "execute_result"
    }
   ],
   "source": [
    "# vamos a contar las palabras de las diferentes noticias\n",
    "\n",
    "conteo = data_filtrada['contenido_limpio'].str.split().apply(len)\n",
    "conteo.describe(percentiles=[0.25, 0.5, 0.75, 0.9, 0.99])"
   ]
  },
  {
   "cell_type": "code",
   "execution_count": 29,
   "metadata": {},
   "outputs": [],
   "source": [
    "# Parámetros\n",
    "MAX_NB_WORDS = 2800  # Número máximo de palabras en el vocabulario\n",
    "MAX_SEQUENCE_LENGTH = 300  # Longitud máxima de las secuencias\n",
    "EMBEDDING_DIM = 100  # Dimensión de los embeddings"
   ]
  },
  {
   "cell_type": "markdown",
   "metadata": {},
   "source": [
    "Estos valores se utilizan para configurar el procesamiento del texto:\n",
    "\n",
    "* MAX_NB_WORDS = 3000: Solo se considerarán las 3000 palabras más frecuentes en el vocabulario.\n",
    "* MAX_SEQUENCE_LENGTH = 200: Todas las secuencias serán truncadas o rellenadas hasta 200 palabras.\n",
    "* EMBEDDING_DIM = 100: Cada palabra en el modelo LSTM se representará con un vector de 100 dimensiones."
   ]
  },
  {
   "cell_type": "markdown",
   "metadata": {},
   "source": [
    "# 8. Función para tokenizar el texto"
   ]
  },
  {
   "cell_type": "code",
   "execution_count": 30,
   "metadata": {},
   "outputs": [],
   "source": [
    "# Función de tokenización\n",
    "def tokenizar_texto(textos):\n",
    "    tokenizer = Tokenizer(num_words=MAX_NB_WORDS, oov_token=\"<OOV>\")\n",
    "    tokenizer.fit_on_texts(textos)\n",
    "    sequences = tokenizer.texts_to_sequences(textos)\n",
    "    word_index = tokenizer.word_index\n",
    "    return tokenizer, sequences, word_index"
   ]
  },
  {
   "cell_type": "markdown",
   "metadata": {},
   "source": [
    "Esta función:\n",
    "\n",
    "* Crea un tokenizador que usa MAX_NB_WORDS=3000 palabras más frecuentes.\n",
    "* Usa el token <OOV> (Out of Vocabulary) para palabras desconocidas.\n",
    "* Convierte el texto en secuencias de números, donde cada palabra se convierte en su índice en el vocabulario."
   ]
  },
  {
   "cell_type": "markdown",
   "metadata": {},
   "source": [
    "# 9. Aplicar tokenización"
   ]
  },
  {
   "cell_type": "code",
   "execution_count": 31,
   "metadata": {},
   "outputs": [],
   "source": [
    "# Aplicar tokenización\n",
    "tokenizer, sequences, word_index = tokenizar_texto(data_filtrada[\"contenido_limpio\"])"
   ]
  },
  {
   "cell_type": "markdown",
   "metadata": {},
   "source": [
    "* Tokeniza el texto limpio, convirtiéndolo en secuencias de números.\n",
    "* Cada palabra tiene un número asociado según el tokenizer."
   ]
  },
  {
   "cell_type": "markdown",
   "metadata": {},
   "source": [
    "# 10. Padding para normalizar las secuencias"
   ]
  },
  {
   "cell_type": "code",
   "execution_count": 32,
   "metadata": {},
   "outputs": [],
   "source": [
    "# Padding para hacer las secuencias del mismo tamaño\n",
    "def aplicar_padding(sequences, max_length):\n",
    "    return pad_sequences(sequences, maxlen=max_length, padding='post', truncating='post')"
   ]
  },
  {
   "cell_type": "markdown",
   "metadata": {},
   "source": [
    "Esta función:\n",
    "\n",
    "* Asegura que todas las secuencias tengan el mismo largo máximo (MAX_SEQUENCE_LENGTH = 200).\n",
    "* Usa padding='post', lo que significa que si la secuencia es más corta, se agregan ceros al final.\n",
    "* Usa truncating='post', lo que significa que si la secuencia es más larga, se corta al final."
   ]
  },
  {
   "cell_type": "markdown",
   "metadata": {},
   "source": [
    "# 11. Aplicar padding"
   ]
  },
  {
   "cell_type": "code",
   "execution_count": 33,
   "metadata": {},
   "outputs": [],
   "source": [
    "X = aplicar_padding(sequences, MAX_SEQUENCE_LENGTH)"
   ]
  },
  {
   "cell_type": "markdown",
   "metadata": {},
   "source": [
    "* Convierte las secuencias tokenizadas en matrices listas para LSTM.\n",
    "* X ahora es una matriz (número de ejemplos, 200).\n",
    "* Ejemplo de salida:\n",
    "\n",
    "Antes del padding:\n",
    "[5, 87, 302, 15, 928]\n",
    "\n",
    "Después del padding:\n",
    "[5, 87, 302, 15, 928, 0, 0, 0, 0, ..., 0]  (hasta 200)"
   ]
  },
  {
   "cell_type": "markdown",
   "metadata": {},
   "source": [
    "# 12. Imprimir información sobre los datos procesados"
   ]
  },
  {
   "cell_type": "code",
   "execution_count": 34,
   "metadata": {},
   "outputs": [
    {
     "name": "stdout",
     "output_type": "stream",
     "text": [
      "🔢 Total de palabras en el vocabulario: 104309\n",
      "🔠 Forma de una secuencia de entrada: (10851, 300)\n"
     ]
    }
   ],
   "source": [
    "# Imprimir información sobre los datos tokenizados\n",
    "print(f\"🔢 Total de palabras en el vocabulario: {len(tokenizer.word_index)}\")\n",
    "print(f\"🔠 Forma de una secuencia de entrada: {X.shape}\")"
   ]
  },
  {
   "cell_type": "markdown",
   "metadata": {},
   "source": [
    "* Cantidad de palabras en el vocabulario (tokenizer.word_index).\n",
    "* Dimensiones de las secuencias (X.shape)."
   ]
  },
  {
   "cell_type": "markdown",
   "metadata": {},
   "source": [
    "# 13. Guardar el tokenizer para uso futuro"
   ]
  },
  {
   "cell_type": "code",
   "execution_count": 35,
   "metadata": {},
   "outputs": [],
   "source": [
    "# Guardar tokenizer para uso futuro\n",
    "with open(\"tokenizer.pkl\", \"wb\") as f:\n",
    "    pickle.dump(tokenizer, f)"
   ]
  },
  {
   "cell_type": "markdown",
   "metadata": {},
   "source": [
    "* Guarda el tokenizer en un archivo pickle (.pkl) para reutilizarlo sin volver a tokenizar el texto."
   ]
  },
  {
   "cell_type": "markdown",
   "metadata": {},
   "source": [
    "# 14. Muestra las primeras 5 secuencias tokenizadas"
   ]
  },
  {
   "cell_type": "code",
   "execution_count": 36,
   "metadata": {},
   "outputs": [
    {
     "name": "stdout",
     "output_type": "stream",
     "text": [
      "\n",
      "primeras 5 secuencias procesadas:\n",
      "[[ 172 1823 1580 ...    0    0    0]\n",
      " [   1    1    1 ...    0    0    0]\n",
      " [ 299    1 1034 ...    0    0    0]\n",
      " [   1   48  615 ...    0    0    0]\n",
      " [   1  831  875 ... 1078 1206    1]]\n"
     ]
    }
   ],
   "source": [
    "# Visualizar algunas secuencias tokenizadas\n",
    "print(\"\\nprimeras 5 secuencias procesadas:\")\n",
    "print(X[:5])"
   ]
  },
  {
   "cell_type": "markdown",
   "metadata": {},
   "source": [
    "* Cada fila representa un texto convertido en números y normalizado para usarlo en LSTM."
   ]
  },
  {
   "cell_type": "markdown",
   "metadata": {},
   "source": [
    "# Modelado con Redes Neuronales RNN y LSTM"
   ]
  },
  {
   "cell_type": "markdown",
   "metadata": {},
   "source": [
    "## 1. Modelo RNN, Separacion de los datos de entrenamiento y Validacion"
   ]
  },
  {
   "cell_type": "markdown",
   "metadata": {},
   "source": [
    "pip install imbalanced-learn"
   ]
  },
  {
   "cell_type": "code",
   "execution_count": null,
   "metadata": {},
   "outputs": [],
   "source": [
    "from imblearn.over_sampling import RandomOverSampler\n",
    "from sklearn.model_selection import train_test_split\n",
    "from sklearn.preprocessing import LabelEncoder\n",
    "\n",
    "# Codificación de etiquetas\n",
    "label_encoder = LabelEncoder()\n",
    "data_filtrada.loc[:,'Etiqueta_codificada'] = label_encoder.fit_transform(data_filtrada['Etiqueta'])\n",
    "\n",
    "# División del conjunto de datos\n",
    "X_train2, X_val, y_train2, y_val = train_test_split(X, data_filtrada['Etiqueta_codificada'], test_size=0.2, random_state=42,stratify=data_filtrada['Etiqueta_codificada'])\n",
    "\n",
    "# Mostrar tamaño de los conjuntos de datos\n",
    "ros = RandomOverSampler(random_state=42)\n",
    "X_train, y_train = ros.fit_resample(X_train2, y_train2)\n",
    "\n",
    "len(X_train), len(X_val)\n"
   ]
  },
  {
   "cell_type": "markdown",
   "metadata": {},
   "source": [
    "El Label encoder transforma permite crear un vector de las etiquetas que pueda ser usado en la red neuronal.\n",
    "Con esta transformacion separaremos los datos de manera aleatoria con la funcion Train_test_split.\n",
    "En caso de desear evitar un desequilibrio del aprendizaje de la etiquetas, igualamos las cantidades de estas con la funcion Fit.resample que permite duplicar aleatoriamente noticias de las etiquedas que no tengan la mayor cantidad de noticias."
   ]
  },
  {
   "cell_type": "markdown",
   "metadata": {},
   "source": [
    "## 2. Aprendizaje del Modelo de Redes Neuronales RNN (Recurrent Neuronal Network)"
   ]
  },
  {
   "cell_type": "code",
   "execution_count": 38,
   "metadata": {},
   "outputs": [
    {
     "name": "stdout",
     "output_type": "stream",
     "text": [
      "Epoch 1/5\n",
      "875/875 [==============================] - 892s 1s/step - loss: 0.8946 - accuracy: 0.6616 - val_loss: 1.0565 - val_accuracy: 0.4883\n",
      "Epoch 2/5\n",
      "875/875 [==============================] - 843s 963ms/step - loss: 0.3621 - accuracy: 0.8969 - val_loss: 0.7828 - val_accuracy: 0.7190\n",
      "Epoch 3/5\n",
      "875/875 [==============================] - 837s 957ms/step - loss: 0.1868 - accuracy: 0.9543 - val_loss: 0.6783 - val_accuracy: 0.7780\n",
      "Epoch 4/5\n",
      "875/875 [==============================] - 723s 826ms/step - loss: 0.1731 - accuracy: 0.9477 - val_loss: 1.3314 - val_accuracy: 0.4961\n",
      "Epoch 5/5\n",
      "875/875 [==============================] - 537s 614ms/step - loss: 0.2292 - accuracy: 0.9300 - val_loss: 0.8357 - val_accuracy: 0.7379\n"
     ]
    }
   ],
   "source": [
    "from keras.models import Sequential\n",
    "from keras.layers import Embedding, SimpleRNN, Dense\n",
    "from tensorflow import keras\n",
    "from keras.layers import Dropout\n",
    "\n",
    "# Construcción del modelo RNN\n",
    "# Haga cambios en la arquitectura del modelo para mejorar su rendimiento\n",
    "model_rnn = Sequential()\n",
    "model_rnn.add(Embedding(input_dim=len(word_index) + 1, output_dim=528, input_length=MAX_SEQUENCE_LENGTH))\n",
    "#model_rnn.add(Dropout(0.2))\n",
    "model_rnn.add(SimpleRNN(units=64, return_sequences=False))\n",
    "model_rnn.add(Dense(units=len(etiquetas_mas_relevantes), activation='softmax'))\n",
    "\n",
    "\n",
    "# Compilación del modelo\n",
    "\n",
    "#model_rnn.compile(optimizer='adam', loss='sparse_categorical_crossentropy', metrics=['accuracy'])\n",
    "model_rnn.compile(optimizer=keras.optimizers.Adam(learning_rate=0.0001), loss='sparse_categorical_crossentropy', metrics=['accuracy'])\n",
    "# funcion perdida, sparse entre 0s y 1 s\n",
    "\n",
    "# Entrenamiento del modelo\n",
    "history_rnn = model_rnn.fit(X_train, y_train, validation_data=(X_val, y_val), epochs=5, batch_size=32)"
   ]
  },
  {
   "cell_type": "markdown",
   "metadata": {},
   "source": [
    "El modelos RNN es una red neuronal recurrente que aprende la secuencia que definen cada una de las noticias por medio de cada una de sus entradas (las palabras que componen las noticias). Cada entrada tendra una dependencia con la siguiente para asi configurar la capacidad de memoria temporal.\n",
    "\n",
    "Este modelo consta con 3 capas importantes:\n",
    "* Embeding: Permite analizar cada una de las palabras transformandolas en vectores densos de 528 (outputs) caracteres cada una, esta capa tiene la capacidad de crear relaciones semanticas entre palabras.\n",
    "* SimpleRNN: definimos 64 neuronas que seran las que trabajaran para generar los estados de la secuencia o memoria, el retorno de la secuencia esta en falso por lo que solo nos intersa la ultima secuencia como salida.\n",
    "* Dense: Esta capa densa que tiene asignada una neura por cada una de las Etiquetas a predecir (Units) y la activacion del modelo de probabilidad de caer en alguna de estas clasificaciones llamado (SoftMax)"
   ]
  },
  {
   "cell_type": "markdown",
   "metadata": {},
   "source": [
    "## 3. Grafico del aprendizaje y Validacion del Modelo RNN"
   ]
  },
  {
   "cell_type": "code",
   "execution_count": 39,
   "metadata": {},
   "outputs": [
    {
     "data": {
      "image/png": "[encoded data removed]",
      "text/plain": [
       "<Figure size 1000x600 with 1 Axes>"
      ]
     },
     "metadata": {},
     "output_type": "display_data"
    }
   ],
   "source": [
    "import matplotlib.pyplot as plt\n",
    "# Visualización de resultados del modelo RNN\n",
    "plt.figure(figsize=(10, 6))\n",
    "plt.plot(history_rnn.history['accuracy'], label='Entrenamiento')\n",
    "plt.plot(history_rnn.history['val_accuracy'], label='Validación')\n",
    "plt.xlabel('Épocas')\n",
    "plt.ylabel('Accuracy')\n",
    "plt.legend()\n",
    "plt.title('Curvas de Aprendizaje - RNN')\n",
    "plt.show()"
   ]
  },
  {
   "cell_type": "markdown",
   "metadata": {},
   "source": [
    "# Conclusiones del modelo\n",
    "\n",
    "Un modelo de redes es muy bueno para el analisis de secuencias como lo son nuestro corpus de noticias, lo que podemos evidenciar en el nivel de aprendizaje del modelo, empezando en un 66% hasta llegar en pocas epocas a un 93%, esta curva se debe al efecto del desvanecimiento del gradiente, un efecto de este modelo que debido a su dependecia o memoria con nuevas entradas hace que a largo plazo o corpus con noticias muy robustas empiecen a ocurrir una perdida de memoria.\n",
    "Aun sin embargo el modeo es bueno, pero un efecto mas notorio sucede en la etapa de evaluacion, en la 3ra epoca tuvo una gran caida y se repode su accuracy al 72% aproximadamente.\n",
    "\n",
    "Esto no es un buen sintoma para este tipo modelo que por otro lado no esta llegando a nuestro valor objetivo del proyecto."
   ]
  },
  {
   "cell_type": "markdown",
   "metadata": {},
   "source": [
    "## 4. Modelo de Redes LSTM (Long Short Term) Division de los datos"
   ]
  },
  {
   "cell_type": "code",
   "execution_count": 41,
   "metadata": {},
   "outputs": [
    {
     "name": "stdout",
     "output_type": "stream",
     "text": [
      "(27896, 300) (27896, 4)\n"
     ]
    }
   ],
   "source": [
    "import tensorflow as tf\n",
    "dicc={'archivo':0, 'colombia':1, 'deportes':2, 'mundo':3}\n",
    "\n",
    "y_prueba_2=[dicc[tema] for tema in data_filtrada['Etiqueta']]\n",
    "\n",
    "y_prueba=tf.keras.utils.to_categorical(y_prueba_2, num_classes=4)\n",
    "\n",
    "# División del conjunto de datos\n",
    "X_entre2, X_eva, y_entre2, y_eva = train_test_split(X, y_prueba, test_size=0.2, random_state=42)\n",
    "\n",
    "# Mostrar tamaño de los conjuntos de datos\n",
    "X_entre, y_entre = ros.fit_resample(X_entre2, y_entre2)\n",
    "print(X_entre.shape, y_entre.shape)"
   ]
  },
  {
   "cell_type": "markdown",
   "metadata": {},
   "source": [
    "De igual manera que en el modelo anterior el modelo LSTM necesita que sean vectorizados las etiquetas que nos clasifican el corpus de noticias, en esta ocasion se usa una funcion del keras.\n",
    "luego de esto se hace la division de los datos de entrenamiento y validacion y toma los primeros para igualar el numero de noticias en todas las categorias"
   ]
  },
  {
   "cell_type": "markdown",
   "metadata": {},
   "source": [
    "## 5. Entrenamiento y grafico de los resultados de Entrenamiento y Validacion "
   ]
  },
  {
   "cell_type": "code",
   "execution_count": 46,
   "metadata": {},
   "outputs": [
    {
     "name": "stdout",
     "output_type": "stream",
     "text": [
      "Epoch 1/7\n",
      "872/872 [==============================] - 2924s 3s/step - loss: 0.9719 - accuracy: 0.6130 - val_loss: 1.0576 - val_accuracy: 0.5509\n",
      "Epoch 2/7\n",
      "872/872 [==============================] - 1922s 2s/step - loss: 0.5526 - accuracy: 0.7972 - val_loss: 0.8598 - val_accuracy: 0.7158\n",
      "Epoch 3/7\n",
      "872/872 [==============================] - 2046s 2s/step - loss: 0.4132 - accuracy: 0.8707 - val_loss: 0.6741 - val_accuracy: 0.7614\n",
      "Epoch 4/7\n",
      "872/872 [==============================] - 2998s 3s/step - loss: 0.2794 - accuracy: 0.9151 - val_loss: 0.5537 - val_accuracy: 0.7794\n",
      "Epoch 5/7\n",
      "872/872 [==============================] - 3435s 4s/step - loss: 0.1683 - accuracy: 0.9526 - val_loss: 0.4663 - val_accuracy: 0.8111\n",
      "Epoch 6/7\n",
      "872/872 [==============================] - 21081s 24s/step - loss: 0.2283 - accuracy: 0.9280 - val_loss: 0.4312 - val_accuracy: 0.8369\n",
      "Epoch 7/7\n",
      "872/872 [==============================] - 3986s 5s/step - loss: 0.1221 - accuracy: 0.9671 - val_loss: 0.3837 - val_accuracy: 0.8646\n"
     ]
    },
    {
     "data": {
      "image/png": "[encoded data removed]",
      "text/plain": [
       "<Figure size 1000x600 with 1 Axes>"
      ]
     },
     "metadata": {},
     "output_type": "display_data"
    }
   ],
   "source": [
    "from keras.layers import LSTM\n",
    "from keras.models import Sequential\n",
    "from keras.layers import Embedding, Bidirectional, LSTM, Dense\n",
    "from keras.utils import to_categorical\n",
    "\n",
    "# Construcción del modelo LSTM\n",
    "model_lstm = Sequential()\n",
    "model_lstm.add(Embedding(input_dim=len(word_index) + 1, output_dim=528, input_length=MAX_SEQUENCE_LENGTH))\n",
    "#model_lstm.add(Bidirectional(LSTM(units=64, return_sequences=True)))\n",
    "model_lstm.add(Bidirectional(LSTM(units=32)))\n",
    "model_lstm.add(Dense(units=len(etiquetas_mas_relevantes), activation='softmax'))\n",
    "\n",
    "# Compilación del modelo\n",
    "model_lstm.compile(optimizer=keras.optimizers.Adam(learning_rate=0.0001), loss='categorical_crossentropy', metrics=['accuracy'])\n",
    "\n",
    "# Entrenamiento del modelo\n",
    "history_lstm = model_lstm.fit(X_entre, y_entre, validation_data=(X_eva, y_eva), epochs=7, batch_size=32)\n",
    "\n",
    "# Visualización de resultados del modelo LSTM\n",
    "plt.figure(figsize=(10, 6))\n",
    "plt.plot(history_lstm.history['accuracy'], label='Entrenamiento')\n",
    "plt.plot(history_lstm.history['val_accuracy'], label='Validación')\n",
    "plt.xlabel('Épocas')\n",
    "plt.ylabel('Accuracy')\n",
    "plt.legend()\n",
    "plt.title('Curvas de Aprendizaje - LSTM')\n",
    "plt.show()\n"
   ]
  },
  {
   "cell_type": "markdown",
   "metadata": {},
   "source": [
    "El modelos LSTM tambien funciona para problemas recurrente como el corpus de noticias, con la variante de que cada palabra es analizada en relacion a las demas asi estas esten distantes de su ubicacion, por medio de una relacion semantica de las palabras, de igual manera este modelo se compone de algunas capas como sigue:\n",
    "\n",
    "Este modelo consta con 3 capas importantes:\n",
    "* Embeding: Permite analizar cada una de las palabras transformandolas en vectores densos de 528 (outputs) caracteres cada una, esta capa tiene la capacidad de crear relaciones semanticas entre palabras.\n",
    "* Bidireccional: Esta es una capa muy eficiente que permite revisar la secuencia de las palabras hacia en ambas direcciones del texto y expresa un entendimiento con otras partes del texto antes y despues de esa palabra.\n",
    "* Dense: Esta capa densa que tiene asignada una neura por cada una de las Etiquetas a predecir (Units) y la activacion del modelo de probabilidad de caer en alguna de estas clasificaciones llamado (SoftMax)"
   ]
  },
  {
   "cell_type": "markdown",
   "metadata": {},
   "source": [
    "## Comparación de Resultados\n",
    "\n",
    "**Objetivo:** Evaluar y comparar el rendimiento de los modelos RNN y LSTM.\n",
    "**Acciones:**\n",
    "* Calcular y comparar métricas de rendimiento como precisión, recall y F1-score para ambos modelos.\n",
    "* Visualizar las curvas de aprendizaje y los resultados de validación para entender mejor cómo se desempeñan los modelos en las tareas de clasificación.\n",
    "* Comparar los modelos permite entender las fortalezas y debilidades de cada enfoque, proporcionando información valiosa para elegir el modelo más adecuado para tareas específicas de clasificación de texto. Documentar estos resultados de forma asertiva en el cuaderno y en el informe."
   ]
  },
  {
   "cell_type": "markdown",
   "metadata": {},
   "source": [
    "# Metricas del modelo RNN"
   ]
  },
  {
   "cell_type": "code",
   "execution_count": 48,
   "metadata": {},
   "outputs": [
    {
     "name": "stdout",
     "output_type": "stream",
     "text": [
      "Test Loss: 0.8357\n",
      "Test Accuracy: 0.7379\n",
      "68/68 [==============================] - 37s 539ms/step\n",
      "[[1502  107   91   49]\n",
      " [  74   58   26   29]\n",
      " [  75   33   28   10]\n",
      " [  43   18   14   14]]\n",
      "              precision    recall  f1-score   support\n",
      "\n",
      "           0       0.89      0.86      0.87      1749\n",
      "           1       0.27      0.31      0.29       187\n",
      "           2       0.18      0.19      0.18       146\n",
      "           3       0.14      0.16      0.15        89\n",
      "\n",
      "    accuracy                           0.74      2171\n",
      "   macro avg       0.37      0.38      0.37      2171\n",
      "weighted avg       0.75      0.74      0.75      2171\n",
      "\n"
     ]
    }
   ],
   "source": [
    "# Validacion del modelo RNN\n",
    "\n",
    "loss, accuracy = model_rnn.evaluate(X_val, y_val, verbose=0)\n",
    "print(f\"Test Loss: {loss:.4f}\")\n",
    "print(f\"Test Accuracy: {accuracy:.4f}\")\n",
    "\n",
    "### Calculemos la matriz de confusión\n",
    "y_pred = model_rnn.predict(X_val)\n",
    "y_pred_classes = np.argmax(y_pred, axis=1)\n",
    "\n",
    "from sklearn.metrics import confusion_matrix\n",
    "\n",
    "print(confusion_matrix(y_val, y_pred_classes))\n",
    "\n",
    "## Veamos el reporte\n",
    "\n",
    "from sklearn.metrics import classification_report\n",
    "\n",
    "print(classification_report(y_val, y_pred_classes))"
   ]
  },
  {
   "cell_type": "markdown",
   "metadata": {},
   "source": [
    "El modelo RNN muestra un nivel de efectividad el 73% sobre todas las predicciones de las noticias, esto invitaria a pensar que un es un nivel aceptable de confiabilidad.\n",
    "Por otro lado el indicador de pérdida se encuentra en el 0.83 el cual deberia ser cercano a 0 para ser considerado bueno, evidencia de que internamente las etiquetas tienen problemas de predicción.\n",
    "La etiqueta 1 correspondiente a las noticias de cultura tiene una presicion de clasificacion del 31%, la segunda etiqueta el 19% y la tercera solamente el 16%, haciendo que este modelo aparentemente aceptable uno realmente ineficiente en el detalle de cada una de las categorias."
   ]
  },
  {
   "cell_type": "markdown",
   "metadata": {},
   "source": [
    "# Metricas del modelo LSTM"
   ]
  },
  {
   "cell_type": "code",
   "execution_count": 49,
   "metadata": {},
   "outputs": [
    {
     "name": "stdout",
     "output_type": "stream",
     "text": [
      "Test Loss: 0.3837\n",
      "Test Accuracy: 0.8646\n",
      "68/68 [==============================] - 104s 1s/step\n",
      "[[1593   63   77   37]\n",
      " [  54  124    1    9]\n",
      " [  19    0  102    3]\n",
      " [  24    6    1   58]]\n",
      "              precision    recall  f1-score   support\n",
      "\n",
      "           0       0.94      0.90      0.92      1770\n",
      "           1       0.64      0.66      0.65       188\n",
      "           2       0.56      0.82      0.67       124\n",
      "           3       0.54      0.65      0.59        89\n",
      "\n",
      "    accuracy                           0.86      2171\n",
      "   macro avg       0.67      0.76      0.71      2171\n",
      "weighted avg       0.88      0.86      0.87      2171\n",
      "\n"
     ]
    }
   ],
   "source": [
    "# Validacion del modelo LSTM\n",
    "\n",
    "loss, accuracy = model_lstm.evaluate(X_eva, y_eva, verbose=0)\n",
    "print(f\"Test Loss: {loss:.4f}\")\n",
    "print(f\"Test Accuracy: {accuracy:.4f}\")\n",
    "\n",
    "### Calculemos la matriz de confusión\n",
    "y_pred2 = model_lstm.predict(X_eva)\n",
    "y_pred_lstm = np.argmax(y_pred2, axis=1)\n",
    "\n",
    "from sklearn.metrics import confusion_matrix\n",
    "y_eva2 = np.argmax(y_eva, axis=1)\n",
    "print(confusion_matrix(y_eva2, y_pred_lstm))\n",
    "\n",
    "## Veamos el reporte\n",
    "\n",
    "from sklearn.metrics import classification_report\n",
    "\n",
    "print(classification_report(y_eva2, y_pred_lstm))"
   ]
  },
  {
   "cell_type": "markdown",
   "metadata": {},
   "source": [
    "Para el caso del modelo LSTM vemos que en la eficiencia general del modelo están en un 86.46% obteniendo un modelo bastante bueno, por otro lado el test de pérdida se encuentra en el 0.3837 lo cual es un valor bastante bajo indicando que posiblemente en las categorías se han logrado buenas asignaciones o predicciones.\n",
    "\n",
    "Vemos en la matriz de confusión que la categoría 0 con un 90% de precisión y la 2 con un 82%, alcanzarón un muy buen indicador de aceptividad, por otro lado las categorías 1 y 3 con una acertividas cercana al 65% evidencian un modelo aceptable para cada una de las categorías.\n",
    "\n",
    "La precisión observada en las característica 2 y 3 se encuentran alrededor del 55%, evidenciando que la mayor cantidad de errores de predicción de noticias se encuentran en estas 2 categorías. \n",
    "\n",
    "En general vemos que el modelo LSTM de larga memoria logra hacer una buena segregación y entendimiento de las diferentes etiquetas aunque estas no se encuentren balanceadas, es decir, que las proporciones de noticias no se presenta de manera igualitaria pues en el tipo de noticias 0, existe alrededor de 1770 noticias que corresponden casi al 90% de las muestras y aun así la segunda categoría con 124 noticias, logra un efectividad el 82%, demostrando que este modelo es muy efectivo en este tipo de situaciones."
   ]
  },
  {
   "cell_type": "markdown",
   "metadata": {},
   "source": [
    "# Conclusiones y Recomendaciones"
   ]
  },
  {
   "cell_type": "markdown",
   "metadata": {
    "jp-MarkdownHeadingCollapsed": true
   },
   "source": [
    "## **Conclusiones**\n",
    "1. **Desempeño del Modelo RNN:**\n",
    "   - El modelo RNN mostró limitaciones significativas en tareas de clasificación compleja, evidenciadas por valores bajos en las métricas de precisión (0.37), recall (0.38) y F1-score (0.37).\n",
    "   - La arquitectura de RNN, aunque simple y rápida, no es adecuada para manejar relaciones a largo plazo en los datos, debido a problemas de desvanecimiento y explosión del gradiente.\n",
    "\n",
    "2. **Desempeño del Modelo LSTM:**\n",
    "   - El modelo LSTM demostró ser altamente efectivo para la clasificación de noticias, obteniendo métricas sobresalientes: precisión (0.67), recall (0.76) y F1-score (0.71).\n",
    "   - Gracias a su arquitectura basada en celdas de memoria, el LSTM es capaz de capturar dependencias a largo plazo y realizar un análisis contextual del texto, lo que resulta esencial para esta tarea.\n",
    "\n",
    "## **Recomendaciones**\n",
    "\n",
    "1. **Optimización del Modelo LSTM:**\n",
    "   - Implementar técnicas de regularización como Dropout para prevenir el sobreajuste, especialmente en conjuntos de datos más pequeños.\n",
    "   - Ajustar los hiperparámetros (tamaño de la memoria, tasa de aprendizaje, número de capas) mediante un enfoque sistemático como búsqueda en cuadrícula o optimización bayesiana para maximizar el rendimiento.\n",
    "   - Considerar el uso de embeddings preentrenados como Word2Vec, GloVe o BERT para mejorar la representación semántica del texto, incrementando la precisión y eficiencia del modelo.\n",
    "\n",
    "2. **Alternativas para Explorar:**\n",
    "   - Evaluar modelos avanzados como Transformers (e.g., BERT, GPT) que han demostrado un rendimiento superior en tareas de clasificación de texto.\n",
    "   - Implementar redes bidireccionales LSTM (BiLSTM) para capturar relaciones contextuales en ambas direcciones del texto, lo que podría mejorar aún más la precisión.\n",
    "   - Probar enfoques híbridos, combinando LSTM con arquitecturas de atención para priorizar las palabras más relevantes en el análisis.\n",
    "\n",
    "3. **Mejoras en el Modelo RNN:**\n",
    "   - Aunque limitado, el RNN podría mejorarse parcialmente mediante la incorporación de técnicas de atención simples para mitigar los problemas de gradiente y capturar dependencias clave en los datos.\n",
    "   - Utilizar variantes como GRU (Gated Recurrent Unit) que ofrecen un balance entre simplicidad y capacidad de manejo de dependencias a largo plazo."
   ]
  }
 ],
 "metadata": {
  "colab": {
   "provenance": []
  },
  "kernelspec": {
   "display_name": "Python 3 (ipykernel)",
   "language": "python",
   "name": "python3"
  },
  "language_info": {
   "codemirror_mode": {
    "name": "ipython",
    "version": 3
   },
   "file_extension": ".py",
   "mimetype": "text/x-python",
   "name": "python",
   "nbconvert_exporter": "python",
   "pygments_lexer": "ipython3",
   "version": "3.10.15"
  }
 },
 "nbformat": 4,
 "nbformat_minor": 4
}
